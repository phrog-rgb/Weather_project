{
 "cells": [
  {
   "cell_type": "markdown",
   "metadata": {
    "collapsed": false,
    "jupyter": {
     "outputs_hidden": false
    }
   },
   "source": [
    "Подгружаем библиотеки питона"
   ]
  },
  {
   "cell_type": "code",
   "execution_count": 2,
   "metadata": {},
   "outputs": [],
   "source": [
    "import numpy as np\n",
    "import pandas as pd"
   ]
  },
  {
   "cell_type": "markdown",
   "metadata": {
    "collapsed": false,
    "jupyter": {
     "outputs_hidden": false
    }
   },
   "source": [
    "Объявим несколько функций: одна из них преобразует значения в колонках, вторая добавляет строки в пропущенные ячейки таблицы. Их всего немного поэтому они не будут нам мешать в предсказании и правильном представлении информации"
   ]
  },
  {
   "cell_type": "code",
   "execution_count": 3,
   "metadata": {
    "collapsed": false,
    "jupyter": {
     "outputs_hidden": false
    }
   },
   "outputs": [],
   "source": [
    "def to_numeric_with_exceptions(column):\n",
    "    try:\n",
    "        return pd.to_numeric(column)\n",
    "    except ValueError:\n",
    "        return column\n",
    "\n",
    "def add_rows(df):\n",
    "    new_rows = []\n",
    "    for name, group in df.groupby(['Year', 'Month', 'Day']):\n",
    "        if len(group) != 8:\n",
    "            missing_hours = [hour for hour in range(0, 24, 3) if hour not in group['Hour'].values]\n",
    "\n",
    "            for hour in missing_hours:\n",
    "                new_row = {col: np.nan for col in df.columns}\n",
    "                new_row['Year'] = name[0]\n",
    "                new_row['Month'] = name[1]\n",
    "                new_row['Day'] = name[2]\n",
    "                new_row['Hour'] = hour\n",
    "                new_rows.append(new_row)\n",
    "\n",
    "    if new_rows:\n",
    "        new_rows_df = pd.DataFrame(new_rows)\n",
    "        df = pd.concat([df, new_rows_df], ignore_index=True)\n",
    "        df.sort_values(by=['Year', 'Month', 'Day', 'Hour'], inplace=True)\n",
    "        df.reset_index(drop=True, inplace=True)\n",
    "\n",
    "    return df"
   ]
  },
  {
   "cell_type": "markdown",
   "metadata": {
    "collapsed": false,
    "jupyter": {
     "outputs_hidden": false
    }
   },
   "source": [
    "Прочитаем нашу базу данных"
   ]
  },
  {
   "cell_type": "code",
   "execution_count": 4,
   "metadata": {
    "collapsed": false,
    "jupyter": {
     "outputs_hidden": false
    }
   },
   "outputs": [],
   "source": [
    "df = pd.read_csv('DataBase.csv',\n",
    "                 delimiter=';',\n",
    "                 names = ['Year', 'Month', 'Day', 'Hour', #date parameters\n",
    "                          'Temp', 'Pressure', 'Humidity', 'Direction', 'Power', 'Cloudiness', #necessary parameters\n",
    "                          'Weather', 'LowCl', 'LowPerc', 'Height', 'HighCl1', 'HighCl2', 'Visibility', 'Rainfall'], #unnecessary parameters\n",
    "                 low_memory=False)"
   ]
  },
  {
   "cell_type": "markdown",
   "metadata": {
    "collapsed": false,
    "jupyter": {
     "outputs_hidden": false
    }
   },
   "source": [
    "Добавим недостающие строки, заполним обязательные для представления поля предыдущими значениями. Уберем первую нулевую строчку и преобразуем все в численный формат"
   ]
  },
  {
   "cell_type": "code",
   "execution_count": 5,
   "metadata": {
    "collapsed": false,
    "jupyter": {
     "outputs_hidden": false
    },
    "scrolled": true
   },
   "outputs": [
    {
     "name": "stdout",
     "output_type": "stream",
     "text": [
      "   Year  Month  Day  Hour  Temp  Pressure  Humidity Direction  Power  \\\n",
      "1  2005      2    1     3  -8.6     743.0      89.0         7    2.0   \n",
      "2  2005      2    1     6  -8.2     742.8      90.0         7    3.0   \n",
      "3  2005      2    1     9  -8.6     743.5      89.0         7    3.0   \n",
      "4  2005      2    1    12  -7.1     745.0      85.0         7    3.0   \n",
      "5  2005      2    1    15  -6.6     746.8      83.0         7    3.0   \n",
      "\n",
      "   Cloudiness Weather                                              LowCl  \\\n",
      "1       100.0    Снег                                    Слоисто-кучевые   \n",
      "2       100.0    Снег  Слоистые разорванные или кучевые разорванные о...   \n",
      "3       100.0    Снег  Слоистые разорванные или кучевые разорванные о...   \n",
      "4        95.0    Снег                                    Слоисто-кучевые   \n",
      "5       100.0  Ливень                                    Кучевые средние   \n",
      "\n",
      "   LowPerc  Height                                          HighCl1  \\\n",
      "1     75.0   800.0                   Высокослоистые просвечивающие.   \n",
      "2     75.0   450.0                   Высокослоистые просвечивающие.   \n",
      "3    100.0   450.0                   Высокослоистые просвечивающие.   \n",
      "4     95.0   800.0                                              NaN   \n",
      "5    100.0   450.0  Высококучевые башенкообразные или хлопьевидные.   \n",
      "\n",
      "                                             HighCl2 Visibility Rainfall  \n",
      "1  Перисто-кучевые одни или перисто-кучевые, сопр...        NaN      NaN  \n",
      "2  Перисто-кучевые одни или перисто-кучевые, сопр...        NaN        2  \n",
      "3  Перисто-кучевые одни или перисто-кучевые, сопр...          4        3  \n",
      "4                                                NaN         10      NaN  \n",
      "5  Перисто-кучевые одни или перисто-кучевые, сопр...          4      NaN  \n"
     ]
    }
   ],
   "source": [
    "df=add_rows(df)\n",
    "\n",
    "columns_to_fill = ['Temp', 'Pressure', 'Humidity', 'Direction', 'Power', 'Cloudiness']\n",
    "df[columns_to_fill] = df[columns_to_fill].ffill()\n",
    "\n",
    "df = df[1:len(df)]\n",
    "\n",
    "for col in df.columns:\n",
    "    df[col] = to_numeric_with_exceptions(df[col])\n",
    "\n",
    "print(df.head())"
   ]
  },
  {
   "cell_type": "markdown",
   "metadata": {
    "collapsed": false,
    "jupyter": {
     "outputs_hidden": false
    }
   },
   "source": [
    "Выгрузим нашу базу в файл Temp.csv с разделителем \";\""
   ]
  },
  {
   "cell_type": "code",
   "execution_count": 8,
   "metadata": {
    "collapsed": false,
    "jupyter": {
     "outputs_hidden": false
    }
   },
   "outputs": [],
   "source": [
    "df.to_csv('Temp.csv', sep=';')"
   ]
  },
  {
   "cell_type": "code",
   "execution_count": null,
   "metadata": {},
   "outputs": [],
   "source": []
  }
 ],
 "metadata": {
  "kernelspec": {
   "display_name": "Python 3 (ipykernel)",
   "language": "python",
   "name": "python3"
  },
  "language_info": {
   "codemirror_mode": {
    "name": "ipython",
    "version": 3
   },
   "file_extension": ".py",
   "mimetype": "text/x-python",
   "name": "python",
   "nbconvert_exporter": "python",
   "pygments_lexer": "ipython3",
   "version": "3.9.13"
  }
 },
 "nbformat": 4,
 "nbformat_minor": 4
}
